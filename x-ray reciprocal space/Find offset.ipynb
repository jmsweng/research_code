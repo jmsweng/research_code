{
 "cells": [
  {
   "cell_type": "code",
   "execution_count": null,
   "metadata": {
    "collapsed": true
   },
   "outputs": [],
   "source": [
    "# Find alignment offset of two volumes\n",
    "# Does not appear to be any offset"
   ]
  },
  {
   "cell_type": "code",
   "execution_count": 49,
   "metadata": {
    "collapsed": true
   },
   "outputs": [],
   "source": [
    "import numpy as np\n",
    "import matplotlib.pyplot as plt\n",
    "from scipy.ndimage import rotate"
   ]
  },
  {
   "cell_type": "code",
   "execution_count": 95,
   "metadata": {
    "collapsed": true
   },
   "outputs": [],
   "source": [
    "vol1 = np.load('CBr4_d700_333K/normed volume 1.npy')\n",
    "vol2 = np.load('CBr4_d700_333K/normed volume 2.npy')"
   ]
  },
  {
   "cell_type": "code",
   "execution_count": 23,
   "metadata": {
    "collapsed": false
   },
   "outputs": [],
   "source": [
    "v1 = np.ones((449, 449))\n",
    "v2 = np.ones((449, 449))\n",
    "for i in range (0, 10):\n",
    "    v1 = np.add(v1, np.nan_to_num(vol1[220+i]))\n",
    "    v2 = np.add(v2, np.nan_to_num(vol2[220+i]))"
   ]
  },
  {
   "cell_type": "code",
   "execution_count": 15,
   "metadata": {
    "collapsed": false
   },
   "outputs": [],
   "source": [
    "plt.imshow(vol1[224])\n",
    "plt.show()"
   ]
  },
  {
   "cell_type": "code",
   "execution_count": 24,
   "metadata": {
    "collapsed": false
   },
   "outputs": [],
   "source": [
    "plt.imshow(v1)\n",
    "plt.show()"
   ]
  },
  {
   "cell_type": "code",
   "execution_count": 99,
   "metadata": {
    "collapsed": false
   },
   "outputs": [],
   "source": [
    "im1 = (np.nan_to_num(vol1[224]))[200:250, 200:250]\n",
    "im2 = (np.nan_to_num(vol1[225]))[200:250, 200:250]\n",
    "plt.subplot(1, 2, 1)\n",
    "plt.imshow(im1, vmax = 100)\n",
    "\n",
    "plt.subplot(1, 2, 2)\n",
    "plt.imshow(im2, vmax = 100)\n",
    "plt.show()"
   ]
  },
  {
   "cell_type": "code",
   "execution_count": 102,
   "metadata": {
    "collapsed": false
   },
   "outputs": [],
   "source": [
    "err = []\n",
    "ang = []\n",
    "for i in range (0, 100):\n",
    "    err.append(np.sum(np.subtract(np.nan_to_num(im1), rotate(np.nan_to_num(im2), (-50+i)/10, reshape=False))))\n",
    "    ang.append((-50+i)/10)"
   ]
  },
  {
   "cell_type": "code",
   "execution_count": 103,
   "metadata": {
    "collapsed": false
   },
   "outputs": [],
   "source": [
    "plt.plot(ang, err)\n",
    "plt.show()"
   ]
  },
  {
   "cell_type": "code",
   "execution_count": 89,
   "metadata": {
    "collapsed": false
   },
   "outputs": [
    {
     "name": "stdout",
     "output_type": "stream",
     "text": [
      "17736.529499808195\n",
      "119324.35780439194\n"
     ]
    }
   ],
   "source": [
    "print(np.max(np.nan_to_num(im1)))\n",
    "print(np.max(np.nan_to_num(im2)))"
   ]
  },
  {
   "cell_type": "code",
   "execution_count": 78,
   "metadata": {
    "collapsed": false
   },
   "outputs": [],
   "source": []
  },
  {
   "cell_type": "code",
   "execution_count": 104,
   "metadata": {
    "collapsed": true
   },
   "outputs": [],
   "source": [
    "vol = np.load('normalized volume.npy')"
   ]
  },
  {
   "cell_type": "code",
   "execution_count": 105,
   "metadata": {
    "collapsed": true
   },
   "outputs": [],
   "source": [
    "plt.subplot(1, 2, 1)\n",
    "plt.imshow(vol1[224])\n",
    "plt.subplot(1, 2, 2)\n",
    "plt.imshow(vol[224])\n",
    "plt.show()"
   ]
  },
  {
   "cell_type": "code",
   "execution_count": null,
   "metadata": {
    "collapsed": true
   },
   "outputs": [],
   "source": []
  }
 ],
 "metadata": {
  "kernelspec": {
   "display_name": "Python [Anaconda3]",
   "language": "python",
   "name": "Python [Anaconda3]"
  },
  "language_info": {
   "codemirror_mode": {
    "name": "ipython",
    "version": 3
   },
   "file_extension": ".py",
   "mimetype": "text/x-python",
   "name": "python",
   "nbconvert_exporter": "python",
   "pygments_lexer": "ipython3",
   "version": "3.5.2"
  }
 },
 "nbformat": 4,
 "nbformat_minor": 0
}
