{
 "cells": [
  {
   "cell_type": "code",
   "execution_count": 1,
   "metadata": {
    "collapsed": true
   },
   "outputs": [],
   "source": [
    "from pims import ImageSequence\n",
    "import numpy as np\n",
    "import skimage.exposure as skie\n",
    "\n",
    "# Imports all .tif files in a directory as float32\n",
    "# Pass file header (fh) and file extension (fe)\n",
    "# Needs pims and numpy\n",
    "_\n",
    "def seq_import(fh, fe):\n",
    "    return ImageSequence(fh + '*' + fe, dtype = np.float32)\n",
    "# Import and rescale image sequence to run between 1 and 65536\n",
    "# Pass file header (fh) and file extension (fe)\n",
    "def im_rescale(fh, fe):\n",
    "    imseq = seq_import(fh,fe)\n",
    "    n = len(imseq)\n",
    "    o = []\n",
    "    for i in range (0, n):\n",
    "        o.append(skie.rescale_intensity(imseq[i], in_range = (1, 65536)))\n",
    "    return o"
   ]
  },
  {
   "cell_type": "code",
   "execution_count": 4,
   "metadata": {
    "collapsed": true
   },
   "outputs": [],
   "source": [
    "import skimage.exposure as skie\n",
    "# Last frame\n",
    "lf = seq_import('Melt_Kinetic_Run_18_127_end-', '.tif')\n",
    "# Histogram equalization of last frame\n",
    "him = skie.exposure.equalize_hist(lf[0])\n",
    "# Rescale image in case blob detection fails\n",
    "shim = skie.exposure.rescale_intensity(him)"
   ]
  },
  {
   "cell_type": "code",
   "execution_count": 6,
   "metadata": {},
   "outputs": [],
   "source": [
    "import matplotlib.pyplot as plt\n",
    "plt.imshow(him, cmap = 'BuGn')\n",
    "plt.show()"
   ]
  },
  {
   "cell_type": "code",
   "execution_count": null,
   "metadata": {},
   "outputs": [],
   "source": [
    "'''\n",
    "fn = 'Melt_Kinetic_Run_9_157-' # File name header\n",
    "ext = '.tif' # File extension\n",
    "\n",
    "# Import sequence of images \n",
    "imseq = ImageSequence(fn + '*' + ext, dtype = np.float32)\n",
    "\n",
    "# Create empty list for normalized images (pixel scale values to start at 1)\n",
    "im_norm = [];\n",
    "# Normalize list of n images\n",
    "n = len(imseq);\n",
    "# Imports to image with index = n\n",
    "for x in range(0, n):\n",
    "    #im_norm.append(imseq[x]+abs(imseq[x].min())+1)\n",
    "    #Normalize image pixel values to between 1 and 65536 in a non retarded way\n",
    "    im_norm.append(skie.rescale_intensity(imseq[x], in_range = (1, 65536)))\n",
    "'''"
   ]
  },
  {
   "cell_type": "code",
   "execution_count": 7,
   "metadata": {},
   "outputs": [],
   "source": [
    "imseq = seq_import('Melt_Kinetic_Run_18_127-', '.tif')\n",
    "pimseq = [] # Empty list for padded image sequence\n",
    "# Pad images with 50 pixel border of zeros\n",
    "for i in range (0, len(imseq)):\n",
    "    pimseq.append(np.pad(imseq[i], (50,50), 'constant', constant_values=(0,0)))"
   ]
  },
  {
   "cell_type": "code",
   "execution_count": 31,
   "metadata": {},
   "outputs": [],
   "source": [
    "plt.imshow(pimseq[1])\n",
    "plt.show()"
   ]
  },
  {
   "cell_type": "code",
   "execution_count": 12,
   "metadata": {},
   "outputs": [],
   "source": [
    "# Check bulk growth \n",
    "## Radial average function, pretend center is at (1024,1024) for now\n",
    "# Actual beam center is (1056, 1034) by manual calibration\n",
    "def radial_profile(data, center):\n",
    "    y, x = np.indices((data.shape))\n",
    "    r = np.sqrt((x - center[0])**2 + (y - center[1])**2)\n",
    "    r = r.astype(np.int)\n",
    "\n",
    "    tbin = np.bincount(r.ravel(), data.ravel())\n",
    "    nr = np.bincount(r.ravel())\n",
    "    radialprofile = tbin / nr\n",
    "    return radialprofile \n",
    "\n",
    "integrated_patterns = []\n",
    "for i in range (0, len(imseq)):\n",
    "    integrated_patterns.append(radial_profile(imseq[i], (1056, 1034)))\n",
    "\n",
    "# SVD of radial averages \n",
    "\n",
    "from scipy import linalg\n",
    "U, s, Vh = linalg.svd(integrated_patterns)"
   ]
  },
  {
   "cell_type": "code",
   "execution_count": 10,
   "metadata": {
    "collapsed": true
   },
   "outputs": [],
   "source": [
    "plt.plot(U[:,2])\n",
    "plt.show()"
   ]
  },
  {
   "cell_type": "code",
   "execution_count": null,
   "metadata": {},
   "outputs": [],
   "source": []
  },
  {
   "cell_type": "code",
   "execution_count": null,
   "metadata": {},
   "outputs": [],
   "source": []
  },
  {
   "cell_type": "code",
   "execution_count": 14,
   "metadata": {},
   "outputs": [],
   "source": [
    "# Difference of gaussian method\n",
    "from matplotlib import pyplot as plt\n",
    "from skimage import data\n",
    "from skimage.feature import blob_dog#, blob_doh, blob_log\n",
    "from skimage import io\n",
    "from math import sqrt\n",
    "from skimage.color import rgb2gray\n",
    "\n",
    "image = him\n",
    "image_gray = image/np.max(image)\n",
    "\n",
    "# Too small of a threshold will make program fail to run\n",
    "blobs_dog = blob_dog(image_gray, min_sigma = 0.25, max_sigma=10, sigma_ratio=4, threshold=0.03) \n",
    "# Compute radii in the 3rd column.\n",
    "blobs_dog[:, 2] = blobs_dog[:, 2] * sqrt(2)\n",
    "\n",
    "# Plot Blob DoG\n",
    "null = [] #empty list\n",
    "blobs_list = [blobs_dog, null]\n",
    "colors = ['red', 'yellow']\n",
    "titles = ['Peaks located by difference of gaussians method', 'Diffraction Pattern']\n",
    "sequence = zip(blobs_list, colors, titles)\n",
    "\n",
    "fig,axes = plt.subplots(1,2, sharex=True, sharey=True, subplot_kw={'adjustable':'box-forced'})\n",
    "axes = axes.ravel()\n",
    "for blobs, color, title in sequence:\n",
    "    ax = axes[0]\n",
    "    axes = axes[1:]\n",
    "    ax.set_title(title)\n",
    "    ax.imshow(image, interpolation='nearest', cmap = 'BuGn')\n",
    "    for blob in blobs:\n",
    "        y, x, r = blob\n",
    "        c = plt.Circle((x, y), r, color=color, linewidth=2, fill=False)\n",
    "        ax.add_patch(c)\n",
    "\n",
    "plt.show()"
   ]
  },
  {
   "cell_type": "code",
   "execution_count": 15,
   "metadata": {},
   "outputs": [
    {
     "data": {
      "text/plain": [
       "1422"
      ]
     },
     "execution_count": 15,
     "metadata": {},
     "output_type": "execute_result"
    }
   ],
   "source": [
    "len(blobs_dog)"
   ]
  },
  {
   "cell_type": "code",
   "execution_count": 16,
   "metadata": {
    "collapsed": true
   },
   "outputs": [],
   "source": [
    "from skimage.draw import circle, circle_perimeter\n",
    "# Needs skimage.draw\n",
    "# Returns spot intensity\n",
    "# Pass x, y position, radius (r), and some array (image)\n",
    "def spot_intensity(x, y, r, image):\n",
    "    rad = int(np.ceil(r)) # Returns nearest largest integer to provided radius\n",
    "    x_pos = int(x) # Gets integer value for provided x\n",
    "    y_pos = int(y) # Gets integer value for provided y\n",
    "    out = 0 # Output variable\n",
    "    \n",
    "    rr, cc = circle(x_pos, y_pos, r-1) # Generates a list of points in circle, (r+1 because function used doesn't provide points on perimeter)\n",
    "    \n",
    "    for i in range (0, len(rr)):\n",
    "        out += image[rr[i]][cc[i]]\n",
    "    return out\n"
   ]
  },
  {
   "cell_type": "code",
   "execution_count": 17,
   "metadata": {},
   "outputs": [
    {
     "name": "stderr",
     "output_type": "stream",
     "text": [
      "C:\\Users\\User\\Anaconda3\\lib\\site-packages\\ipykernel\\__main__.py:1: RuntimeWarning: divide by zero encountered in log\n",
      "  if __name__ == '__main__':\n",
      "C:\\Users\\User\\Anaconda3\\lib\\site-packages\\ipykernel\\__main__.py:1: RuntimeWarning: invalid value encountered in log\n",
      "  if __name__ == '__main__':\n"
     ]
    }
   ],
   "source": [
    "plt.imshow(np.log(lf[0]))\n",
    "plt.show()"
   ]
  },
  {
   "cell_type": "code",
   "execution_count": null,
   "metadata": {},
   "outputs": [],
   "source": [
    "blobs_dog[300]"
   ]
  },
  {
   "cell_type": "code",
   "execution_count": null,
   "metadata": {},
   "outputs": [],
   "source": [
    "spot_intensity(1024, 1024, 1024, lf[0])"
   ]
  },
  {
   "cell_type": "code",
   "execution_count": null,
   "metadata": {},
   "outputs": [],
   "source": [
    "out = []\n",
    "for i in range (0, len(imseq)):\n",
    "    out.append(spot_intensity(806, 1693, 5, imseq[i]))"
   ]
  },
  {
   "cell_type": "code",
   "execution_count": null,
   "metadata": {
    "collapsed": true
   },
   "outputs": [],
   "source": [
    "plt.plot(out, 'k.')\n",
    "plt.plot(out, 'b')\n",
    "plt.show()"
   ]
  },
  {
   "cell_type": "code",
   "execution_count": 18,
   "metadata": {
    "collapsed": true
   },
   "outputs": [],
   "source": [
    "# Shitfuckton of functions\n",
    "\n",
    "from skimage.draw import circle, circle_perimeter\n",
    "# Takes value (val) and checks against dataset (d_set) and checks if it's an outlier\n",
    "# Returns either value or median of data set if outlier\n",
    "# Outlier check based on whether or not value is within 3 sigma of mean\n",
    "# Sigma is approximated by 1.4826*(Median absolute deviation)\n",
    "# Needs numpy\n",
    "\n",
    "def is_outlier(val, d_set):\n",
    "    med = np.median(d_set) # Get median\n",
    "    #mad = np.median(np.subtract(d_set, med)) # Get median absolute deviation\n",
    "    mad = np.median(np.abs(d_set- med)) # Get median absolute deviation\n",
    "    asigma = np.abs(mad*3*1.4826) # Absolute value of approximate sigma\n",
    "    if (med-asigma) < val < (med+asigma):\n",
    "        return val\n",
    "    return med\n",
    "\n",
    "# Pad dataset before filter based on window provided\n",
    "# Give data set (d_set), and window width (x)\n",
    "def winpad(d_set, x):\n",
    "    if (x % 2 == 0): # Check if window is even\n",
    "        raise Exception('Window width must be odd!')\n",
    "    rad = np.int(np.floor(x/2)) # Calculate radius of window given\n",
    "    pad = np.pad(d_set, rad, 'edge')\n",
    "    return pad\n",
    "\n",
    "# Hampel filter, input dataset (dset) and window width (x)\n",
    "# Input an odd window or the window will be asymmetric and something fucks up\n",
    "def hampel(d_set, x):\n",
    "    if (x % 2 == 0): # Check if window is even\n",
    "        raise Exception('Window width must be odd!')\n",
    "    out = []\n",
    "    temp = winpad(d_set, x)\n",
    "    rad = np.int(np.floor(x/2))\n",
    "    for i in range (0, len(d_set)):\n",
    "        out.append(is_outlier(d_set[i], temp[i:i+x]))\n",
    "    return out\n",
    "# Return intensities all peaks provided in a given image\n",
    "# Provide image (im), and list of peaks (plist) in form ((x1, y1, radius1), (x2, y2, radius2), ...)\n",
    "# Peaks are assumed to be circular\n",
    "\n",
    "def image_peak(im, plist):\n",
    "    intensity = [] # Empty list for peak intensities\n",
    "    for i in range (0, len(plist)):\n",
    "        x = plist[i][0] # Get x position for first peak in list\n",
    "        y = plist[i][1] # Get y position for first peak in list\n",
    "        r = plist[i][2] # Get radius for first peak in list\n",
    "        intensity.append(spot_intensity(x, y, r, im))\n",
    "    return intensity\n",
    "\n",
    "# Needs skimage.draw\n",
    "# Returns spot intensity\n",
    "# Pass x, y position, radius (r), and some array (image)\n",
    "def spot_intensity(x, y, r, image):\n",
    "    rad = int(np.ceil(r)) # Returns nearest largest integer to provided radius\n",
    "    x_pos = int(x) # Gets integer value for provided x\n",
    "    y_pos = int(y) # Gets integer value for provided y\n",
    "    out = 0 # Output variable\n",
    "    \n",
    "    rr, cc = circle(x_pos, y_pos, r-1) # Generates a list of points in circle, (r+1 because function used doesn't provide points on perimeter)\n",
    "    \n",
    "    for i in range (0, len(rr)):\n",
    "        out += image[rr[i]][cc[i]]\n",
    "    return out\n",
    "\n",
    "# Return intensities of all peaks provided over a list of images\n",
    "def all_spot_intensities(im_list, plist):\n",
    "    frame_intensities = [] # Empty list for peak intensities over a frame\n",
    "    for i in range (0, len(im_list)):\n",
    "        frame_intensities.append(image_peak(im_list[i], plist))\n",
    "    return np.transpose(frame_intensities)\n",
    "\n",
    "# Returns moving average of data set with window of n width\n",
    "def moving_average(data, n):\n",
    "    return np.convolve(data, np.ones((n,))/n)[(n-1):]\n",
    "\n",
    "# Returns last n% of a given time series\n",
    "# Returns x and y values\n",
    "# X values are just based on position in series\n",
    "def last_per(data, n):\n",
    "    xval = [] # Empty list for x values \n",
    "    perc = 1-(n/100)\n",
    "    maxval = len(data) # Max \n",
    "    minval = np.int(maxval*perc)\n",
    "    \n",
    "    yval = data[minval:maxval]\n",
    "    xval = list(range(minval,maxval))\n",
    "    \n",
    "    return xval,yval\n",
    "\n",
    "# Returns values between n% and m% of a given time series\n",
    "# Returns x and y values\n",
    "# X values are just based on position in series\n",
    "def per_range(data, n, m):\n",
    "    xval = [] # Empty list for x values \n",
    "    perc = (n/100)\n",
    "    perc2 = (m/100)\n",
    "    length = len(data) # length of data set\n",
    "    maxval = np.int(length*perc2) # Index corresponding to m%\n",
    "    minval = np.int(length*perc) # Index corresponding to n%\n",
    "    \n",
    "    yval = data[minval:maxval]\n",
    "    xval = list(range(minval,maxval))\n",
    "    \n",
    "    return xval,yval\n",
    "\n",
    "# Returns a set of points that correspond to some linear baseline \n",
    "# Linear baseline is determined by fitting the last n% of input time series\n",
    "def linear_baseline(data, n):\n",
    "    xval,yval = last_per(data, n) # Get last n percent of data set\n",
    "    lm = np.polyfit(xval, yval, 1) # Fit to first degree polynomial\n",
    "    lin = [] # Empty list for points generated from linear model\n",
    "    for i in range (0, len(data)): # Generate list of points the length of data set with linear model\n",
    "        lin.append(lm[0]*i) # Remove y-intercept\n",
    "    return lin\n",
    "\n",
    "# Returns a set of points that correspond to some linear baseline \n",
    "# Linear baseline is determined by fitting n-m% of input time series\n",
    "def linear_baseline_range(data, n, m):\n",
    "    xval,yval = per_range(data, n, m) # Get last n percent of data set\n",
    "    lm = np.polyfit(xval, yval, 1) # Fit to first degree polynomial\n",
    "    lin = [] # Empty list for points generated from linear model\n",
    "    for i in range (0, len(data)): # Generate list of points the length of data set with linear model\n",
    "        lin.append(lm[0]*i) # Remove y-intercept\n",
    "    return lin\n",
    "\n",
    "# Perform a baseline subtraction\n",
    "# Subtracts a linear baseline that corresponds to the fit of the last n% of the input data set\n",
    "def sub_linear_baseline(data, n):\n",
    "    subdat = np.subtract(data, linear_baseline(data, n)) # Subtracts linear baseline \n",
    "    return subdat \n",
    "\n",
    "# Perform a baseline subtraction after applying a moving average of window width j to the input data\n",
    "# Subtracts a linear baseline that corresponds to the fit of n-m% of the input data set\n",
    "def sub_linear_baseline_av(data, n, m, j):\n",
    "    av_dat = moving_average(data, j) # Moving average of data\n",
    "    subdat = np.subtract(data, linear_baseline_range(av_dat, n, m)) # Subtracts linear baseline \n",
    "    return subdat \n",
    "\n",
    "# Perform a baseline subtraction\n",
    "# Subtracts a linear baseline that corresponds to the fit of the first n% of the input data set\n",
    "def sub_linear_baseline_first(data, n):\n",
    "    subdat = np.subtract(data, linear_baseline_range(data, 0, n)) # Subtracts linear baseline \n",
    "    return subdat "
   ]
  },
  {
   "cell_type": "code",
   "execution_count": null,
   "metadata": {
    "collapsed": true
   },
   "outputs": [],
   "source": [
    "# Normalizes to intensity seen at average of frames between 80% and 90% of the total run\n",
    "# Requires input of total number of frames \n",
    "#def normalize(x, k):\n",
    "#    return x/np.mean(x[int(np.ceil((k-1)*0.8)):int(np.ceil((k-1)*0.9))])\n",
    "\n",
    "# Shifts baseline to average of first 30 points\n",
    "#def bshift(x):\n",
    "#    return x-np.mean(x[1:30])\n",
    "\n",
    "# Avrami fit model\n",
    "#def avrami(x, k, t):\n",
    "#    return 1-np.exp(-np.power(k*(x-t), 3))"
   ]
  },
  {
   "cell_type": "code",
   "execution_count": 19,
   "metadata": {},
   "outputs": [],
   "source": [
    "# Returns average of first n% of a given time series\n",
    "def mean_first_per(data, n):\n",
    "    perc = n/100 # Gets percentage corresponding to n%\n",
    "    maxval = np.int(len(data)*perc) # Gets highest index value to stop at\n",
    "    \n",
    "    return np.mean(data[0:maxval])\n",
    "# Returns average of last n% of a given time series\n",
    "def mean_last_per(data, n):\n",
    "    length = len(data)\n",
    "    perc = 1-(n/100) # Gets percentage corresponding to n%\n",
    "    minval = np.int(length*perc) # Gets highest index value to stop at\n",
    "    \n",
    "    return np.mean(data[minval:length])\n",
    "# Shifts baseline to 0\n",
    "# Input data list (data), percentage to use as baseline (n)\n",
    "# Assumes average of first n% corresponds to 0%\n",
    "def base_shift(data, n):\n",
    "    datmean = mean_first_per(data, n)\n",
    "    return np.subtract(data, datmean)\n",
    "\n",
    "# Normalizes data set\n",
    "# Input data list (data), and last percentage of data set to use as complete (n)\n",
    "def normalize(data, n):\n",
    "    datmean = mean_last_per(data, n)\n",
    "    return np.divide(data, datmean)\n",
    "\n",
    "# Normalizes data set to moving average of data set\n",
    "# Input data list (data), percentage range of data set to use as complete (n-m), and moving average window (j)\n",
    "def normalize_av(data, n, m, j):\n",
    "    av_dat = moving_average(data, j) # Moving average of data set\n",
    "    datmean = np.mean(per_range(data, n, m)[1]) # Average of range n-m% of moving average\n",
    "    return np.divide(data, datmean)\n",
    "\n",
    "# Corrects and normalizes an input growth curve by:\n",
    "# Subtract linear baseline at end generated from moving average (assumes large irregular oscillations at end)\n",
    "# Use range n - m % for linear baseline with window of j points for moving average\n",
    "# Normalize to 1 using average of n - m% after baseline correction\n",
    "# Undo linear baseline correction by subtracting baseline at beginning (assumes measurement of 0 is relatively stable)\n",
    "# Use range 0 - i% for linear baseline at beginning\n",
    "def curve_correction (data, n, m, j, i):\n",
    "    p = base_shift(data, i) # Baseline shifts beginning 0 - i% to 0\n",
    "    q = sub_linear_baseline_av(p, n, m, j) # Subtracts baseline generated from moving average in range n - m%, moving average window j points\n",
    "    r = normalize_av(q, n, m, j) # Normalize by dividing by average of n - m% after baseline correction\n",
    "    s = sub_linear_baseline_first(r, i) # Undo linear baseline correction by subtracting baseline from 0 - i%\n",
    "    return s"
   ]
  },
  {
   "cell_type": "code",
   "execution_count": 20,
   "metadata": {
    "collapsed": true
   },
   "outputs": [],
   "source": [
    "from scipy.optimize import curve_fit\n",
    "# Truncate values below some threshold value (n)\n",
    "# Provide data list and threshold \n",
    "def truncate_n(dat, n):\n",
    "    out = []\n",
    "    for i in range (0, len(dat)):\n",
    "        if dat[i] < n:\n",
    "            out.append(dat[i])\n",
    "        else:\n",
    "            break\n",
    "    return out\n",
    "# Define avrami model as piecewise function \n",
    "# Function returns 0 for x < t (zero before t0)\n",
    "# Function returns normal avrami model otherwise\n",
    "def piecewise_avrami(x, k, t):\n",
    "    n = 3 # Change if you want to change fit dimensionality\n",
    "    if x < t: # Check if x < t\n",
    "        return 0 # Return 0 if nucleation has not occured yet\n",
    "    else:\n",
    "        return 1-np.exp(-np.power(k*(x-t), n)) # Normal avrami model\n",
    "# Vectorized version of avrami model\n",
    "# Use this when fitting\n",
    "def vect_p_av(x ,k):\n",
    "    j = np.zeros(x.shape)\n",
    "    for i in range(0, len(j)):\n",
    "        j[i] = piecewise_avrami(x[i], k, 670)\n",
    "    return j    \n",
    "# Define some polynomial function\n",
    "# Function returns 0 for x < t (zero before t0)\n",
    "# Function returns polynomial otherwise\n",
    "def polynomial(x, k, t):\n",
    "    n = 3 # Change if you want to change dimensionality\n",
    "    if x < t: # Check if x < t\n",
    "        return 0 # Return 0 if nucleation has not occured yet\n",
    "    else:\n",
    "        return np.power((k*(x-t)), n)\n",
    "# Vectorized polynomial for fitting \n",
    "def vect_polynomial(x, k, t):\n",
    "    j = np.zeros(x.shape)\n",
    "    for i in range (0, len(j)):\n",
    "        j[i] = polynomial(x[i], k, t)\n",
    "    return j\n",
    "\n",
    "# Define some nth order polynomial function\n",
    "def npolynomial(x, k):\n",
    "    n = 3 # Change if you want to change dimensionality\n",
    "    return np.power((k*(x)), n)\n",
    "# Vectorized polynomial for fitting \n",
    "def vect_npolynomial(x, k):\n",
    "    j = np.zeros(x.shape)\n",
    "    for i in range (0, len(j)):\n",
    "        j[i] = npolynomial(x[i], k)\n",
    "    return j\n",
    "# Fit input data set to polynomial model\n",
    "# Biases fit so that it passes through last point and 0,0\n",
    "def fit_to_polynomial(dat):\n",
    "    x = list(range(0, len(dat))) # X values for fit\n",
    "    y = list(dat) # Y values for fit (input data)\n",
    "    for i in range (0, 1000): # Bias fit so that it always passes through the final point and 0,0\n",
    "        x.append(x[-1])\n",
    "        x.insert(0,0) \n",
    "        y.append(y[-1])\n",
    "        y.insert(0,0)\n",
    "    best_vals, covar = curve_fit(vect_polynomial, x, y)\n",
    "    return best_vals"
   ]
  },
  {
   "cell_type": "code",
   "execution_count": 21,
   "metadata": {},
   "outputs": [],
   "source": [
    "# Check these functions \n",
    "\n",
    "# Return intensities all peaks provided in a given image\n",
    "# Provide image (im), and list of peaks (plist) in form ((x1, y1, radius1), (x2, y2, radius2), ...)\n",
    "# Peaks are assumed to be circular\n",
    "def image_peak(im, plist):\n",
    "    intensity = [] # Empty list for peak intensities\n",
    "    for i in range (0, len(plist)):\n",
    "        x = plist[i][0] # Get x position for first peak in list\n",
    "        y = plist[i][1] # Get y position for first peak in list\n",
    "        r = plist[i][2] # Get radius for first peak in list\n",
    "        intensity.append(spot_intensity(x, y, r, im))\n",
    "    return intensity\n",
    "# Needs skimage.draw\n",
    "# Returns spot intensity\n",
    "# Pass x, y position, radius (r), and some array (image)\n",
    "def spot_intensity(x, y, r, image):\n",
    "    rad = int(np.ceil(r)) # Returns nearest largest integer to provided radius\n",
    "    x_pos = int(x) # Gets integer value for provided x\n",
    "    y_pos = int(y) # Gets integer value for provided y\n",
    "    out = 0 # Output variable\n",
    "    \n",
    "    rr, cc = circle(x_pos, y_pos, r-1) # Generates a list of points in circle, (r+1 because function used doesn't provide points on perimeter)\n",
    "    \n",
    "    for i in range (0, len(rr)):\n",
    "        out += image[rr[i]][cc[i]]\n",
    "    return out\n",
    "\n",
    "# Return intensities of all peaks provided over a list of images\n",
    "def all_spot_intensities(im_list, plist):\n",
    "    frame_intensities = [] # Empty list for peak intensities over a frame\n",
    "    for i in range (0, len(im_list)):\n",
    "        frame_intensities.append(image_peak(im_list[i], plist))\n",
    "    return np.transpose(frame_intensities)"
   ]
  },
  {
   "cell_type": "code",
   "execution_count": null,
   "metadata": {},
   "outputs": [],
   "source": []
  },
  {
   "cell_type": "code",
   "execution_count": 22,
   "metadata": {
    "collapsed": true
   },
   "outputs": [],
   "source": [
    "# Pad x and y positions of blobs_dog list to account for border added to images\n",
    "pblobs_dog = []\n",
    "for i in range (0, len(blobs_dog)):\n",
    "    temp = blobs_dog[i] # Temp variable to hold current blobs_dog \n",
    "    pblobs_dog.append([temp[0]+50, temp[1]+50, temp[2]]) # Append blobs_dog list with padded x,y values and peak radius"
   ]
  },
  {
   "cell_type": "code",
   "execution_count": null,
   "metadata": {},
   "outputs": [],
   "source": []
  },
  {
   "cell_type": "code",
   "execution_count": null,
   "metadata": {},
   "outputs": [],
   "source": []
  },
  {
   "cell_type": "code",
   "execution_count": 23,
   "metadata": {},
   "outputs": [],
   "source": [
    "peaks = all_spot_intensities(pimseq, pblobs_dog)"
   ]
  },
  {
   "cell_type": "code",
   "execution_count": null,
   "metadata": {
    "collapsed": true
   },
   "outputs": [],
   "source": [
    "# Truncate peaks at 100 s\n",
    "#trunc_peaks = []\n",
    "#for i in range (0, len(peaks)):\n",
    "#    trunc_peaks.append(peaks[i][1:100])"
   ]
  },
  {
   "cell_type": "code",
   "execution_count": 24,
   "metadata": {},
   "outputs": [],
   "source": [
    "\n",
    "delay = 6 # Time furnace blocked beam for\n",
    "tpeaks = [] # List for peaks with first n+1 seconds removed (where furnace blocked beam)\n",
    "for i in range (0, len(peaks)):\n",
    "    tpeaks.append(peaks[i][delay:-1]) "
   ]
  },
  {
   "cell_type": "code",
   "execution_count": null,
   "metadata": {},
   "outputs": [],
   "source": [
    "# Spikes not present so this is unnecessary \n",
    "#hpeaks = [] # List for peak growth curves with applied hampel filter\n",
    "#for i in range (0, len(trunc_peaks)):\n",
    "#    hpeaks.append(hampel(trunc_peaks[i], 3)) # Apply hampel filter with window width 3 to remove spikes"
   ]
  },
  {
   "cell_type": "code",
   "execution_count": 45,
   "metadata": {},
   "outputs": [],
   "source": [
    "# Edge pad start of curves with 50 points \n",
    "# Only needed if crystallization starts very early\n",
    "#ppeaks = [] # List for peak growth curves with edge padding\n",
    "#for i in range(0, len(tpeaks)):\n",
    "#    ppeaks.append(np.pad(tpeaks[i], (50, 0), 'edge'))\n"
   ]
  },
  {
   "cell_type": "code",
   "execution_count": null,
   "metadata": {},
   "outputs": [],
   "source": [
    "# peak 300 for testing\n",
    "#test = [365.69999909, 365.69999909, 365.69999909, 365.69999909, 365.69999909, 365.69999909, 365.69999909, 365.69999909, 365.69999909, 365.69999909, 365.69999909, 365.69999909, 365.69999909, 365.69999909, 365.69999909, 365.69999909, 365.69999909, 365.69999909, 365.69999909, 365.69999909, 365.69999909, 365.69999909, 365.69999909, 365.69999909, 365.69999909, 365.69999909, 365.69999909, 365.69999909, 365.69999909, 365.69999909, 365.69999909, 365.69999909, 365.69999909, 365.69999909, 365.69999909, 365.69999909, 365.69999909, 365.69999909, 365.69999909, 365.69999909, 365.69999909, 365.69999909, 365.69999909, 365.69999909, 365.69999909, 365.69999909, 365.69999909, 365.69999909, 365.69999909, 365.69999909, 365.69999909, 349.69999778, 414.70000029, 337.70000052, 341.69999854, 334.69999933, 372.7000012 , 376.69999933, 393.70000035, 367.69999819, 500.69999631, 1092.70000303, 1656.70001239, 2485.69998517, 3349.69999528, 3707.69998538, 3996.69998002, 4074.6999824 , 4170.69998515, 4077.69998036, 4372.69997042, 4175.69998503, 4126.69997245, 4171.69997251, 4103.69997248, 4071.6999687 , 4157.69998628, 3925.69999045, 4016.69999659, 4182.69997115, 4205.6999861 , 4145.69998601, 4196.69999349, 4089.69999301, 4163.69996989, 4068.69998807, 3952.69999117, 4126.69998264, 4189.69996589, 4130.69996786, 4279.69996877, 4245.69996452, 4327.69996938, 4450.70000041, 4317.69996927, 4419.69996858, 4378.6999715 , 4283.69996872, 4079.69997287, 4217.69997025, 4229.69997305, 4279.69997287, 4375.69997227, 4289.69997698, 4159.69998521, 4355.70000529, 4341.70000279, 4538.70003414, 4552.7000351 , 4318.69998851, 4344.70000137, 4160.69996858, 4330.70000541, 4300.6999712 , 4337.70000577, 4436.70000339, 4330.69996977, 4222.69996536, 4488.70000023, 4457.69999588, 4289.69996834, 4441.69996929, 4463.69998145, 4385.69997197, 4456.69997323, 4503.69997287, 4441.69997311, 4452.69997394, 4409.69997182, 4485.70000362, 4638.70000426, 4591.70000541, 4551.70000607, 4530.70003337, 4430.69999909, 4692.70002985, 4467.69999599, 4675.69999814, 4569.69999814, 4317.69999588, 4678.69999111, 4490.6999948 , 4591.69999552, 4595.69999373, 4717.69999194, 4538.69999635, 4648.70000205, 4541.70000243, 4649.70000696, 4442.69997281]"
   ]
  },
  {
   "cell_type": "code",
   "execution_count": 28,
   "metadata": {},
   "outputs": [],
   "source": [
    "plt.plot(peaks[170], 'r', tpeaks[300], 'k')\n",
    "plt.show()"
   ]
  },
  {
   "cell_type": "code",
   "execution_count": 29,
   "metadata": {},
   "outputs": [],
   "source": [
    "import  matplotlib.pyplot as plt\n",
    "plt.plot(normalize_av(curve_correction(tpeaks[170], 70,75,100, 30),70,90,30))\n",
    "\n",
    "plt.ylabel(\"Intensity (arbitrary units)\")\n",
    "plt.xlabel(\"Time (s)\")\n",
    "plt.show()"
   ]
  },
  {
   "cell_type": "code",
   "execution_count": 30,
   "metadata": {},
   "outputs": [
    {
     "name": "stderr",
     "output_type": "stream",
     "text": [
      "C:\\Users\\User\\Anaconda3\\lib\\site-packages\\ipykernel\\__main__.py:32: RuntimeWarning: invalid value encountered in true_divide\n"
     ]
    }
   ],
   "source": [
    "# Corrects and normalizes an input growth curve by:\n",
    "# Subtract linear baseline at end generated from moving average (assumes large irregular oscillations at end)\n",
    "# Use range n - m % for linear baseline with window of j points for moving average\n",
    "# Normalize to 1 using average of n - m% after baseline correction\n",
    "# Undo linear baseline correction by subtracting baseline at beginning (assumes measurement of 0 is relatively stable)\n",
    "# Use range 0 - i% for linear baseline at beginning\n",
    "# curve_correction(dat, n,m,j,i)\n",
    "# Corrects growth curves with linear baseline subtraction at end between 70 and 90%\n",
    "# Moving average window of 50 points\n",
    "# Initial zero baseline from 0 to 1%\n",
    "\n",
    "# Causes a crash if the moving average window is too large relative to the data set\n",
    "cpeaks = []\n",
    "for i in range (0, len(tpeaks)):\n",
    "    cpeaks.append(normalize_av(curve_correction(tpeaks[i], 70, 75, 100, 30), 70,90,30))"
   ]
  },
  {
   "cell_type": "code",
   "execution_count": null,
   "metadata": {},
   "outputs": [],
   "source": []
  },
  {
   "cell_type": "code",
   "execution_count": 51,
   "metadata": {},
   "outputs": [],
   "source": []
  },
  {
   "cell_type": "code",
   "execution_count": 31,
   "metadata": {},
   "outputs": [],
   "source": [
    "plt.plot(cpeaks[190])\n",
    "plt.show()"
   ]
  },
  {
   "cell_type": "code",
   "execution_count": null,
   "metadata": {},
   "outputs": [],
   "source": []
  },
  {
   "cell_type": "code",
   "execution_count": null,
   "metadata": {},
   "outputs": [],
   "source": []
  },
  {
   "cell_type": "code",
   "execution_count": null,
   "metadata": {},
   "outputs": [],
   "source": []
  },
  {
   "cell_type": "code",
   "execution_count": 32,
   "metadata": {},
   "outputs": [],
   "source": [
    "# Return index for when value exceeds some threshold value (n)\n",
    "# Moving average with window of j points is applied\n",
    "def get_n(dat, n, j):\n",
    "    av_dat = moving_average(dat, j)\n",
    "    out = []\n",
    "    for i in range (0, len(dat)):\n",
    "        if dat[i] < n:\n",
    "            out.append(i)\n",
    "        else:\n",
    "            break\n",
    "    return out[-1]"
   ]
  },
  {
   "cell_type": "code",
   "execution_count": null,
   "metadata": {},
   "outputs": [],
   "source": []
  },
  {
   "cell_type": "code",
   "execution_count": null,
   "metadata": {},
   "outputs": [],
   "source": []
  },
  {
   "cell_type": "code",
   "execution_count": null,
   "metadata": {},
   "outputs": [],
   "source": []
  },
  {
   "cell_type": "code",
   "execution_count": 33,
   "metadata": {},
   "outputs": [],
   "source": [
    "import scipy.signal as signal\n",
    "import matplotlib.pyplot as plt\n",
    " \n",
    "# fdat = [0 for x in range (0, len(blobs_dog))] # Creates empty list for filtered data\n",
    "# Design of filter\n",
    "N  = 4    # Filter order\n",
    "Wn = 0.5  # Cutoff frequency as a fraction of sampling rate\n",
    "# Butterworth filter\n",
    "B, A = signal.butter(N, Wn, output='ba')"
   ]
  },
  {
   "cell_type": "code",
   "execution_count": 34,
   "metadata": {},
   "outputs": [],
   "source": [
    "fdat = [] # Empty list for filtered data\n",
    "for i in range (0, len(cpeaks)):\n",
    "    fdat.append(signal.filtfilt(B, A, cpeaks[i]))"
   ]
  },
  {
   "cell_type": "code",
   "execution_count": 35,
   "metadata": {},
   "outputs": [],
   "source": [
    "plt.plot(fdat[190])\n",
    "plt.show()"
   ]
  },
  {
   "cell_type": "code",
   "execution_count": 36,
   "metadata": {},
   "outputs": [],
   "source": [
    "tdat = []\n",
    "for i in range (0, len(fdat)):\n",
    "    tdat.append(truncate_n(fdat[i], 0.2))"
   ]
  },
  {
   "cell_type": "code",
   "execution_count": 37,
   "metadata": {},
   "outputs": [
    {
     "name": "stderr",
     "output_type": "stream",
     "text": [
      "C:\\Users\\User\\Anaconda3\\lib\\site-packages\\scipy\\optimize\\minpack.py:690: OptimizeWarning: Covariance of the parameters could not be estimated\n",
      "  category=OptimizeWarning)\n"
     ]
    }
   ],
   "source": [
    "f_params = [] # Empty list for fit parameters\n",
    "\n",
    "for i in range (0, len(tdat)):\n",
    "    if len(tdat[i])<3:\n",
    "        f_params.append([0,0])\n",
    "    else:\n",
    "        try:\n",
    "            best_vals = fit_to_polynomial(tdat[i])\n",
    "        except RuntimeError:\n",
    "            best_vals = [0,0]\n",
    "        f_params.append(best_vals)\n",
    "    "
   ]
  },
  {
   "cell_type": "code",
   "execution_count": 38,
   "metadata": {},
   "outputs": [],
   "source": [
    "plt.plot(np.transpose(f_params)[1], np.transpose(f_params)[0], 'r.')\n",
    "plt.show()"
   ]
  },
  {
   "cell_type": "code",
   "execution_count": 41,
   "metadata": {},
   "outputs": [],
   "source": [
    "rparams = [] # Parameters with [0,0] removed\n",
    "for i in range (0, len(f_params)):\n",
    "    if f_params[i][1] > 0: # Only take fit parameters if t0 is > 0\n",
    "        if f_params[i][0] > 0: # Only take fit parameters if k is > 0\n",
    "            rparams.append([f_params[i][0], f_params[i][1], i])"
   ]
  },
  {
   "cell_type": "code",
   "execution_count": 42,
   "metadata": {},
   "outputs": [],
   "source": [
    "plt.plot(np.transpose(rparams)[1], np.transpose(rparams)[0], 'k.')\n",
    "plt.show()"
   ]
  },
  {
   "cell_type": "code",
   "execution_count": 43,
   "metadata": {},
   "outputs": [],
   "source": [
    "plt.plot(cpeaks[33])\n",
    "plt.show()"
   ]
  },
  {
   "cell_type": "code",
   "execution_count": 44,
   "metadata": {},
   "outputs": [],
   "source": [
    "check = [] # Empty list to check for points interest \n",
    "for i in range (0, len(rparams)):\n",
    "    #if rparams[i][0] > 1: # check for k values \n",
    "    if 30 < rparams[i][1] < 40 : # check for t0 values \n",
    "        check.append(rparams[i])"
   ]
  },
  {
   "cell_type": "code",
   "execution_count": 45,
   "metadata": {},
   "outputs": [],
   "source": [
    "plt.plot(cpeaks[5],marker = '.')\n",
    "plt.show()"
   ]
  },
  {
   "cell_type": "code",
   "execution_count": 46,
   "metadata": {},
   "outputs": [
    {
     "data": {
      "text/plain": [
       "[[0.47647188282352027, 37.998294413645965, 19],\n",
       " [0.46584351487277159, 37.997630642611561, 25],\n",
       " [0.44915644961701495, 37.998306454605498, 31],\n",
       " [0.10901598260265172, 37.744903220379626, 41],\n",
       " [0.066746594124261135, 35.083602226988127, 57],\n",
       " [0.034103632936270861, 34.628602450158155, 60],\n",
       " [0.028300426229470963, 35.145781330283029, 63],\n",
       " [0.11626508355256997, 39.021036843263182, 70],\n",
       " [0.074638200871600321, 37.025053976968316, 82],\n",
       " [0.29772665518264946, 38.184504856191815, 86],\n",
       " [0.044293866106966576, 35.144163164103546, 91],\n",
       " [0.084024489136313177, 37.213837742626616, 96],\n",
       " [0.13195728630496228, 39.919921623302599, 100],\n",
       " [0.03730767732846204, 33.795222110384124, 102],\n",
       " [0.060512942984424931, 35.391189385763475, 108],\n",
       " [0.35633531338680019, 37.000125589405648, 111],\n",
       " [0.12700032014815429, 31.798054468527194, 113],\n",
       " [0.18728759120120098, 36.037879031665504, 115],\n",
       " [0.058698982658799123, 38.204745037658455, 117],\n",
       " [0.22687509718447918, 39.706901474077128, 120],\n",
       " [0.43476634001454406, 37.998769227320871, 125],\n",
       " [0.12894529497873425, 36.477946542797014, 127],\n",
       " [0.26097769979897439, 34.097702650130657, 128],\n",
       " [0.088662286752731773, 37.75696462512915, 136],\n",
       " [0.53200886852381057, 30.998013241283854, 139],\n",
       " [0.36452574538945853, 39.996166757196718, 143],\n",
       " [0.31262918288129726, 36.001736960193149, 145],\n",
       " [0.17435274223341354, 31.090961602310209, 153],\n",
       " [0.054519530238804001, 30.598716199092095, 154],\n",
       " [0.39404012837776148, 38.00193587280102, 155],\n",
       " [0.44674203602549534, 39.999517116410914, 161],\n",
       " [0.090891154359181894, 36.82343502313045, 162],\n",
       " [0.13264974248658654, 31.646270396399956, 172],\n",
       " [0.064483200619515804, 36.25565906616707, 175],\n",
       " [0.029816137504924987, 30.823843350696624, 187],\n",
       " [0.24180875799009524, 36.809293218306266, 194],\n",
       " [0.082756037464898152, 34.176484976658465, 195],\n",
       " [0.025464142690466832, 31.654721084940189, 198],\n",
       " [0.1085320620748248, 34.32864930262113, 200],\n",
       " [0.061003965879405535, 31.884643473441571, 223],\n",
       " [0.047119869312038341, 32.603284970591503, 225],\n",
       " [0.17929370282374466, 38.531717305756018, 228],\n",
       " [0.35351728407338101, 39.000056932810587, 234],\n",
       " [0.12964313531651914, 30.621611573030812, 241],\n",
       " [0.11459545574846988, 37.165126980479464, 244],\n",
       " [0.50553308058573676, 38.997969989705084, 251],\n",
       " [0.056075155023101293, 34.886530738064103, 253],\n",
       " [0.22256206383106561, 39.885943738665077, 257],\n",
       " [0.055172181645716502, 30.870002633396592, 262],\n",
       " [0.035681748727358645, 30.343330286775196, 273],\n",
       " [0.22661232844597548, 39.866807053625685, 277],\n",
       " [0.17720459132308819, 30.702849750637984, 279],\n",
       " [0.059896858161937121, 31.853356970238409, 286],\n",
       " [0.17491737415965669, 34.661727115020291, 290],\n",
       " [0.087138726231313121, 36.212115637422691, 292],\n",
       " [0.15580679228714928, 30.857215442293921, 299],\n",
       " [0.085860258086946709, 30.788101226873565, 307],\n",
       " [0.22562418501589088, 36.801631645090353, 316],\n",
       " [0.10138032459209741, 31.253985425774591, 318],\n",
       " [0.47168403129112524, 38.999016158217287, 326],\n",
       " [0.11778171923268557, 39.371187761090511, 328],\n",
       " [0.070006813946231608, 36.517260293440692, 330],\n",
       " [0.3285574354865014, 33.998161458467337, 331],\n",
       " [0.391891186060709, 36.99774450929344, 339],\n",
       " [0.26102937573175616, 38.822915366094179, 346],\n",
       " [0.059246977407316215, 31.967559943888059, 359],\n",
       " [0.04361924267381611, 30.873746599583431, 362],\n",
       " [0.16381598906200331, 37.682134435519934, 370],\n",
       " [0.041022051044838415, 33.011632007276695, 371],\n",
       " [0.040750398527696213, 33.127018146262586, 373],\n",
       " [0.086201831903106471, 36.660425556864404, 375],\n",
       " [0.14958695649865159, 34.281127105025462, 383],\n",
       " [0.19094506815903042, 36.947307406405422, 391],\n",
       " [0.22754658774123415, 37.772401229731031, 402],\n",
       " [0.13738105161859396, 36.126401359162713, 423],\n",
       " [0.17422890984521444, 31.063819664950007, 429],\n",
       " [0.43726803137311504, 39.000460970296579, 433],\n",
       " [0.30234484117979848, 33.000956793699757, 436],\n",
       " [0.45794445784020066, 39.999772402868629, 439],\n",
       " [0.07545036346432428, 33.598650280847735, 443],\n",
       " [0.54051015072720787, 39.998917304765456, 445],\n",
       " [0.081081535046134814, 32.901548608283875, 447],\n",
       " [0.046246320115098619, 30.74570155575206, 448],\n",
       " [0.21362546389746742, 34.815143921258496, 467],\n",
       " [0.37392141321686073, 33.998627507784356, 473],\n",
       " [0.29406084215960276, 35.344902642548547, 476],\n",
       " [0.10042482764878381, 31.045160120094057, 478],\n",
       " [0.35647642250020672, 38.000048677961537, 479],\n",
       " [0.44204004705683664, 30.999933775304637, 480],\n",
       " [0.49039072314657861, 39.999012237773407, 481],\n",
       " [0.34864007389815793, 33.99877848355095, 485],\n",
       " [0.070450883628349212, 37.884444771199419, 489],\n",
       " [0.13163915215701727, 38.875629910116324, 491],\n",
       " [0.37066922746803466, 37.994772795743252, 493],\n",
       " [0.10046664440480743, 36.269421763095927, 495],\n",
       " [0.23484301996001331, 33.931198364484665, 496],\n",
       " [0.057920560521402924, 37.906400385521742, 503],\n",
       " [0.27288659208099952, 38.000843811747451, 523],\n",
       " [0.38317781585478833, 35.763633984622075, 524],\n",
       " [0.30620932755573266, 39.996862979090878, 526],\n",
       " [0.092434633378551845, 34.337627317770497, 537],\n",
       " [0.20715085693063442, 35.974522328128472, 546],\n",
       " [0.34340992086131239, 33.002512810130554, 552],\n",
       " [0.51911023719319505, 38.996629380818661, 553],\n",
       " [0.075812717107452451, 34.113958759381489, 561],\n",
       " [0.1527364410239975, 39.836330494586797, 562],\n",
       " [0.073350743158069984, 31.896641063590248, 563],\n",
       " [0.45820401173775194, 35.864800324267428, 565],\n",
       " [0.052358288394188164, 34.805335998243443, 569],\n",
       " [0.070085586815523876, 38.279499087662131, 587],\n",
       " [0.13342486121907685, 39.003982742732525, 590],\n",
       " [0.22179971660035844, 35.992162139502646, 592],\n",
       " [0.10325346657284933, 38.061478497198159, 594],\n",
       " [0.063525255279757123, 35.180545019605944, 596],\n",
       " [0.58081624714538627, 34.999518245684683, 597],\n",
       " [0.073982107032856237, 36.162048043037714, 600],\n",
       " [0.097089013845758701, 38.602854419621423, 606],\n",
       " [0.222410505743698, 39.909081351244694, 612],\n",
       " [0.07002344936294766, 36.600189361371207, 625],\n",
       " [0.49435632660447199, 34.999684325232927, 632],\n",
       " [0.099263280577086763, 36.189499090171303, 635],\n",
       " [0.076636815923490101, 34.514051838104457, 636],\n",
       " [0.13125477690641074, 34.72442268635703, 639],\n",
       " [0.093386583265237383, 30.869936377634236, 640],\n",
       " [0.44445377828635119, 38.999952850001726, 658],\n",
       " [0.52073079069063566, 37.999083047509991, 662],\n",
       " [0.05184157584838929, 37.779620545320356, 663],\n",
       " [0.037186299517116057, 34.202258189436179, 664],\n",
       " [0.19245983167843511, 37.338347580624443, 669],\n",
       " [0.11829770103094578, 38.512567511901096, 674],\n",
       " [0.34411880819433616, 38.998756821590504, 678],\n",
       " [0.36800672350041541, 37.998690215085844, 680],\n",
       " [0.023231129689675053, 30.616838261567086, 684],\n",
       " [0.46776556683983223, 39.99981043637392, 685],\n",
       " [0.45866111207632765, 36.999083950131912, 695],\n",
       " [0.090161193188143265, 35.723240649268881, 699],\n",
       " [0.48375222185368699, 37.00093537665532, 710],\n",
       " [0.56518968819830595, 36.995627108782763, 711],\n",
       " [0.20417406894803217, 30.147111619317062, 717],\n",
       " [0.563502011379303, 35.999339174389824, 723],\n",
       " [0.035962269092070093, 35.082510424463713, 738],\n",
       " [0.046075384053349724, 35.812732878413982, 741],\n",
       " [0.12143535727271353, 38.771928744759229, 742],\n",
       " [0.10797990342038388, 36.181060621727852, 744],\n",
       " [0.046792519840194308, 35.155182482186461, 747],\n",
       " [0.13011997327760361, 38.621012499263742, 761],\n",
       " [0.22063088367989797, 30.43962984655213, 762],\n",
       " [0.11389700569145864, 39.596497164133744, 767],\n",
       " [0.15086484447425377, 39.057690434089324, 777],\n",
       " [0.043071142213906434, 30.032539822463605, 780],\n",
       " [0.17927992758597575, 38.360925955160553, 785],\n",
       " [0.14318553663896716, 31.949631758419091, 790],\n",
       " [0.36727880526217371, 30.459536420565652, 804],\n",
       " [0.058944206647423773, 34.807126515409912, 808],\n",
       " [0.2231978740081827, 37.633079222122596, 813],\n",
       " [0.55361965872501007, 38.999357159380914, 816],\n",
       " [0.12880349630971505, 39.541458378063744, 819],\n",
       " [0.55594237196001806, 35.998378869662425, 824],\n",
       " [0.27547537256159155, 39.973264058598758, 850],\n",
       " [0.12062715098203314, 39.088525186662331, 858],\n",
       " [0.039165383234550891, 32.965149419423547, 861],\n",
       " [0.14134938224664906, 36.900567570280792, 863],\n",
       " [0.45576229542316349, 35.00006740298285, 881],\n",
       " [0.092226511823709223, 36.949231387096219, 886],\n",
       " [0.43548962968034732, 33.998627846257719, 887],\n",
       " [0.44287019822615914, 37.995204332156717, 899],\n",
       " [0.507882252629133, 39.999953766655246, 901],\n",
       " [0.45221714020044851, 37.000057863047871, 907],\n",
       " [0.51336884118768322, 39.999892824641478, 913],\n",
       " [0.048867192913671649, 35.936735642409836, 915],\n",
       " [0.062604034553067081, 36.417281457595934, 917],\n",
       " [0.061110522750793941, 36.295265649924985, 924],\n",
       " [0.39438893404257708, 36.673616901174789, 926],\n",
       " [0.10426605564314578, 37.679127105705028, 928],\n",
       " [0.043586231544418111, 34.171111920313344, 938],\n",
       " [0.13758921419063172, 39.941031883060816, 941],\n",
       " [0.16085360215972777, 38.576230182162533, 946],\n",
       " [0.057673923367571635, 35.628233639341047, 955],\n",
       " [0.077435190450115418, 37.530579202757494, 961],\n",
       " [0.3091882963782055, 37.115983388295561, 966],\n",
       " [0.14991364515772856, 35.90794222065616, 967],\n",
       " [0.05100322963576448, 33.757603451268608, 968],\n",
       " [0.015943389338950977, 34.229455205148867, 970],\n",
       " [0.053050085453733499, 39.955370894426359, 971],\n",
       " [0.13536976848955165, 34.341972504239543, 975],\n",
       " [0.39481107435973972, 38.99926821095557, 976],\n",
       " [0.23791435795053933, 37.622763930122808, 980],\n",
       " [0.20711320521063198, 32.249017133100601, 986],\n",
       " [0.17822800657481017, 38.122687732738704, 988],\n",
       " [0.10710636579621224, 39.94518037508697, 991],\n",
       " [0.079062338484530564, 32.267057471536972, 996],\n",
       " [0.35782315895835903, 30.533891826112814, 998],\n",
       " [0.036576041960335336, 36.75410469859348, 1003],\n",
       " [0.23636888802017084, 32.709912983986762, 1005],\n",
       " [0.062409470468839483, 33.787989036130703, 1008],\n",
       " [0.19858983537824018, 39.092189672311697, 1010],\n",
       " [0.15928851501463442, 39.610260992270931, 1015],\n",
       " [0.086786139786915739, 36.464559039619807, 1017],\n",
       " [0.065262350384730133, 34.133279233832646, 1019],\n",
       " [0.061691208024579933, 38.815305355895539, 1021],\n",
       " [0.074190688850272635, 32.296834706074492, 1025],\n",
       " [0.053920138155869879, 31.967880431319507, 1032],\n",
       " [0.079954812809535952, 34.322775258818929, 1040],\n",
       " [0.5062834544862802, 36.998754147676706, 1050],\n",
       " [0.23399103606588897, 34.973089317826862, 1056],\n",
       " [0.21895701044889226, 35.691302836313852, 1062],\n",
       " [0.19292755659137201, 37.977993157405713, 1074],\n",
       " [0.57000833298618336, 38.999966217365071, 1075],\n",
       " [0.42239119947940124, 34.998664751025387, 1076],\n",
       " [0.081755491837856173, 34.681844176975936, 1082],\n",
       " [0.057255809052492959, 30.459574234373864, 1084],\n",
       " [0.1027925303646101, 33.586560738708748, 1090],\n",
       " [0.073700800401118233, 37.149055246668524, 1091],\n",
       " [0.051294757322011136, 35.663650171835236, 1095],\n",
       " [0.2720512253797569, 39.000095558813882, 1101],\n",
       " [0.40890814197864922, 33.997788424782293, 1102],\n",
       " [0.080893131207610325, 31.465121092563262, 1108],\n",
       " [0.45780084980000363, 32.000346087770019, 1110],\n",
       " [0.47627001319578444, 39.998766829312018, 1111],\n",
       " [0.50860548428058716, 36.991848250625445, 1114],\n",
       " [0.50490935139837068, 39.000620994810248, 1115],\n",
       " [0.038497706542321875, 34.534406807955989, 1123],\n",
       " [0.071121520484289297, 30.582090991825588, 1125],\n",
       " [0.49823443366796849, 34.999181927479398, 1126],\n",
       " [0.022888779002012444, 34.021563919640165, 1144],\n",
       " [0.17051171808403809, 35.636311158593251, 1146],\n",
       " [0.068367620700831105, 37.466251010351492, 1149],\n",
       " [0.3081068906703352, 39.238280772448746, 1152],\n",
       " [0.19895857707002651, 30.250056866474743, 1163],\n",
       " [0.06723258383811262, 39.756274382225001, 1167],\n",
       " [0.086071984006471813, 31.445683312656975, 1173],\n",
       " [0.09645814751059785, 34.444023355007594, 1178],\n",
       " [0.064126305720337604, 35.075469615907345, 1194],\n",
       " [0.14840202459795956, 38.58163663291861, 1201],\n",
       " [0.09825759736404889, 30.543673555614824, 1202],\n",
       " [0.40319356849914417, 38.000559393277861, 1207],\n",
       " [0.059749116069435212, 31.252447981638277, 1211],\n",
       " [0.094908187180172007, 34.953974643374515, 1214],\n",
       " [0.28478558605684828, 38.422767341943988, 1215],\n",
       " [0.091056775348232255, 37.716108997053809, 1217],\n",
       " [0.074576804229778859, 34.727542543719409, 1219],\n",
       " [0.04539473303476841, 33.785582414174044, 1224],\n",
       " [0.18554312468847148, 36.471098993148175, 1228],\n",
       " [0.0063411471143030845, 39.286581251549123, 1246],\n",
       " [0.095407129176142191, 36.283673770217327, 1251],\n",
       " [0.54680639063052983, 39.989020555636891, 1254],\n",
       " [0.10470549748582562, 39.59937036964871, 1257],\n",
       " [0.20606622858153081, 38.18757668132185, 1260],\n",
       " [0.10220826122770645, 37.839013161801098, 1262],\n",
       " [0.039386078427046403, 30.737894299674096, 1264],\n",
       " [0.02906918618056482, 36.235154030331437, 1270],\n",
       " [0.077234817022403451, 34.291150788302069, 1283],\n",
       " [0.13377309092865106, 38.650366733904526, 1290],\n",
       " [0.27768691210691482, 39.196609862790567, 1303],\n",
       " [0.12768268030342464, 35.165648754002497, 1326],\n",
       " [0.064317812491574658, 31.184002931010603, 1333],\n",
       " [0.41822549367543732, 39.997470085195715, 1342],\n",
       " [0.4007371960629777, 38.998944770108345, 1362],\n",
       " [0.11706506577703936, 36.303058240534824, 1366],\n",
       " [0.11874741442746581, 30.11257767610466, 1369],\n",
       " [0.24465198630541671, 36.915827293835761, 1370],\n",
       " [0.067250910401196295, 34.99307844272235, 1378],\n",
       " [0.055075927213462092, 30.363751237648238, 1382],\n",
       " [0.56587833380481245, 38.996063923726574, 1393],\n",
       " [0.51462730393045186, 30.000259687270805, 1400],\n",
       " [0.12546686065758159, 38.546582806566128, 1402],\n",
       " [0.16576827558364085, 32.703237876427252, 1404],\n",
       " [0.16017774050644748, 38.645475007645928, 1407],\n",
       " [0.087056083147329613, 35.968146960420462, 1408]]"
      ]
     },
     "execution_count": 46,
     "metadata": {},
     "output_type": "execute_result"
    }
   ],
   "source": [
    "#np.sort(check,-2)\n",
    "check"
   ]
  },
  {
   "cell_type": "code",
   "execution_count": 47,
   "metadata": {},
   "outputs": [],
   "source": [
    "rparams2 = [] # Parameters with [0,0] removed\n",
    "for i in range (0, len(rparams)):\n",
    "    if rparams[i][1] > 30: # Only take fit parameters if t0 is > 30 (manually found value where curves are nonsense)\n",
    "        rparams2.append(rparams[i])"
   ]
  },
  {
   "cell_type": "code",
   "execution_count": 51,
   "metadata": {},
   "outputs": [],
   "source": [
    "plt.plot(np.transpose(rparams2)[1], np.transpose(rparams2)[0], 'k.')\n",
    "plt.xlabel(\"t0 value\")\n",
    "plt.ylabel(\"k value\")\n",
    "plt.title(\"Melt kinetic run 18, T = 127 K\")\n",
    "plt.show()"
   ]
  },
  {
   "cell_type": "code",
   "execution_count": 54,
   "metadata": {},
   "outputs": [],
   "source": [
    "plt.plot(np.transpose(rparams2)[0], np.transpose(rparams2)[1], 'k.')\n",
    "plt.ylabel(\"t0 value\")\n",
    "plt.xlabel(\"k value\")\n",
    "plt.title(\"Melt kinetic run 18, T = 127 K\")\n",
    "plt.show()"
   ]
  },
  {
   "cell_type": "code",
   "execution_count": 55,
   "metadata": {},
   "outputs": [],
   "source": [
    "np.savetxt(\"k, t0, peak index.csv\", rparams2)"
   ]
  },
  {
   "cell_type": "code",
   "execution_count": 217,
   "metadata": {},
   "outputs": [],
   "source": [
    "plt.plot(cpeaks[753])\n",
    "plt.show()"
   ]
  },
  {
   "cell_type": "code",
   "execution_count": 67,
   "metadata": {},
   "outputs": [
    {
     "data": {
      "text/plain": [
       "0.60684262588491078"
      ]
     },
     "execution_count": 67,
     "metadata": {},
     "output_type": "execute_result"
    }
   ],
   "source": [
    "np.mean(np.transpose(rparams2)[0])"
   ]
  },
  {
   "cell_type": "code",
   "execution_count": 72,
   "metadata": {},
   "outputs": [
    {
     "data": {
      "text/plain": [
       "1.5036262020725681"
      ]
     },
     "execution_count": 72,
     "metadata": {},
     "output_type": "execute_result"
    }
   ],
   "source": [
    "np.min(np.transpose(rparams2)[1])-1"
   ]
  },
  {
   "cell_type": "code",
   "execution_count": 227,
   "metadata": {},
   "outputs": [],
   "source": [
    "plt.hist(np.transpose(rparams)[1], bins='auto')  # arguments are passed to np.histogram\n",
    "plt.title(\"Histogram with 'auto' bins\")\n",
    "plt.show()"
   ]
  },
  {
   "cell_type": "code",
   "execution_count": 191,
   "metadata": {},
   "outputs": [],
   "source": [
    "a = []\n",
    "for i in range (0, len(rparams2)):\n",
    "    if rparams2[i][0] < 0.7:\n",
    "        a.append(rparams2[i][0])\n",
    "plt.hist(a, bins = 'auto')\n",
    "plt.title('histogram of k values')\n",
    "plt.ylabel('counts')\n",
    "plt.xlabel('k value bins')\n",
    "plt.show()"
   ]
  },
  {
   "cell_type": "code",
   "execution_count": 198,
   "metadata": {},
   "outputs": [],
   "source": [
    "a = []\n",
    "for i in range (0, len(rparams2)):\n",
    "    if rparams2[i][1] > 10:\n",
    "        a.append(rparams2[i][1])\n",
    "plt.hist(a, bins = 'auto')\n",
    "plt.title('histogram of t0 values')\n",
    "plt.ylabel('counts')\n",
    "plt.xlabel('t0 value bins')\n",
    "plt.show()"
   ]
  },
  {
   "cell_type": "code",
   "execution_count": 196,
   "metadata": {},
   "outputs": [
    {
     "data": {
      "text/plain": [
       "[]"
      ]
     },
     "execution_count": 196,
     "metadata": {},
     "output_type": "execute_result"
    }
   ],
   "source": []
  },
  {
   "cell_type": "code",
   "execution_count": 77,
   "metadata": {},
   "outputs": [],
   "source": [
    "# Plot Blob DoG\n",
    "null = [] #empty list\n",
    "blobs_list = [blobs_dog, null]\n",
    "colors = ['red', 'yellow']\n",
    "titles = ['Peaks located by difference of gaussians method', 'Diffraction Pattern']\n",
    "sequence = zip(blobs_list, colors, titles)\n",
    "\n",
    "fig,axes = plt.subplots(1,2, sharex=True, sharey=True, subplot_kw={'adjustable':'box-forced'})\n",
    "axes = axes.ravel()\n",
    "for blobs, color, title in sequence:\n",
    "    ax = axes[0]\n",
    "    axes = axes[1:]\n",
    "    ax.set_title(title)\n",
    "    ax.imshow(image, interpolation='nearest', cmap = 'BuGn')\n",
    "    for blob in blobs:\n",
    "        y, x, r = blob\n",
    "        c = plt.Circle((x, y), r, color=color, linewidth=2, fill=False)\n",
    "        ax.add_patch(c)\n",
    "\n",
    "plt.show()"
   ]
  },
  {
   "cell_type": "code",
   "execution_count": 237,
   "metadata": {},
   "outputs": [],
   "source": [
    "# Check bulk growth \n",
    "## Radial average function, pretend center is at (1024,1024) for now\n",
    "def radial_profile(data, center):\n",
    "    y, x = np.indices((data.shape))\n",
    "    r = np.sqrt((x - center[0])**2 + (y - center[1])**2)\n",
    "    r = r.astype(np.int)\n",
    "\n",
    "    tbin = np.bincount(r.ravel(), data.ravel())\n",
    "    nr = np.bincount(r.ravel())\n",
    "    radialprofile = tbin / nr\n",
    "    return radialprofile \n",
    "\n",
    "integrated_patterns = []\n",
    "for i in range (0, len(imseq)):\n",
    "    integrated_patterns.append(radial_profile(imseq[i], (1024,1024)))\n",
    "\n",
    "# SVD of radial averages \n",
    "\n",
    "from scipy import linalg\n",
    "U, s, Vh = linalg.svd(integrated_patterns)\n",
    "\n",
    "plt.plot(U[:,1], marker = '.')\n",
    "plt.show()"
   ]
  },
  {
   "cell_type": "code",
   "execution_count": 201,
   "metadata": {
    "collapsed": true
   },
   "outputs": [],
   "source": [
    "bulk = [-0.010618033, -0.010702187, -0.010045366, -0.010469013, -0.010005388, -0.009453031, -0.009602459, -0.009374603, -0.009509486, -0.009262173, -0.00868389, -0.009232696, -0.008968024, -0.009089219, -0.008391475, -0.008583572, -0.008367971, -0.008397161, -0.008458041, -0.007760815, -0.00810188, -0.008243236, -0.007451357, -0.008209506, -0.008234447, -0.008407837, -0.007588457, -0.007617142, -0.007765034, -0.008227437, -0.008137681, -0.007112073, -0.007771342, -0.007532717, -0.007603996, -0.007950837, -0.007600917, -0.007796662, -0.007382528, -0.007502155, -0.00697404, -0.007331408, -0.006385506, -0.005832081, -0.005932957, -0.004864814, -0.003898141, -0.002836274, -0.001970251, -0.001133124, -0.000442634, 2.31969E-05, 0.000176559, 0.000881155, 0.001174823, 0.001820202, 0.003057335, 0.003921401, 0.004231023, 0.004398804, 0.004665224, 0.004748712, 0.004847198, 0.00450095, 0.004479236, 0.00453717, 0.003975428, 0.004066963, 0.004382726, 0.0040672, 0.004277923, 0.00437703, 0.004062581, 0.004041599, 0.003800643, 0.004014245, 0.00411727, 0.003936493, 0.00380549, 0.004117341, 0.004191951, 0.004096645, 0.003853682, 0.004124873, 0.004128822, 0.004582453, 0.004522232, 0.003984165, 0.004184808, 0.00441592, 0.004385197, 0.004541383, 0.004305236, 0.004401508, 0.004217874, 0.003920547, 0.004128345, 0.003954468, 0.0038997, 0.004053762, 0.003932482, 0.004031586, 0.004002506, 0.003921699, 0.003659427, 0.004124206, 0.004409776, 0.004200089, 0.004216551, 0.004320405, 0.004696201, 0.004380384, 0.004512264, 0.004606207, 0.004350901, 0.004585776, 0.004703557, 0.004467891, 0.00439866, 0.004135496, 0.003984516, 0.003767038, 0.003956429, 0.003948045, 0.003919512, 0.004096511, 0.003658474, 0.003891851, 0.003959506, 0.003837453, 0.004078071, 0.004280875, 0.004343448, 0.004596779, 0.00420706, 0.004249367, 0.004529423, 0.004579673, 0.004568296, 0.004606573, 0.004507968, 0.004470949, 0.004140858, 0.003949683, 0.004179621, 0.004176694, 0.004184638, 0.003973141, 0.003940603, 0.003729126, 0.003927252, 0.003955651, 0.004020556, 0.004143972, 0.004216623, 0.004217783, 0.004348495, 0.004387274, 0.004443163, 0.004750391, 0.004898346, 0.004976769, 0.004672763, 0.004389419, 0.004333485, 0.004210702, 0.004381004, 0.004234156, 0.004545696, 0.004238226, 0.004611918, 0.004124514, 0.004037488, 0.003847894, 0.003893974, 0.004076606, 0.00439873, 0.004108438, 0.004446471, 0.004377558, 0.004375326, 0.004675803, 0.004601692, 0.005047089, 0.004765059, 0.004846701, 0.004916091, 0.004562777, 0.004623249, 0.004470267, 0.004353666, 0.004488304, 0.004277792, 0.004075936, 0.004243331, 0.004128465, 0.004342105, 0.004199832, 0.003896919, 0.003999837, 0.003905799, 0.00438519, 0.004103416, 0.004375078, 0.004225843, 0.004326288, 0.004607351, 0.004434692, 0.004576324, 0.004626515, 0.004763267, 0.004815867, 0.004714557, 0.004368797, 0.00413819, 0.004109015, 0.004053669, 0.004179573, 0.00415296, 0.004168377, 0.004229939, 0.004029786, 0.004104248, 0.003834388, 0.004257383, 0.00431446, 0.004055339, 0.004591951, 0.004270021, 0.004656744, 0.004688882, 0.004759256, 0.00437015, 0.004922858, 0.004571353, 0.004593981, 0.004268442, 0.004087842, 0.004041373, 0.004316509, 0.004152845, 0.003814349, 0.004024006, 0.004274772, 0.003978082, 0.00384612, 0.003937838, 0.00413322, 0.004162548, 0.004146885, 0.004035212, 0.004210077, 0.004313622, 0.004424646, 0.004569422, 0.004307931, 0.004393993, 0.004724371, 0.004534267, 0.004672972, 0.004045118, 0.004119859, 0.004081934, 0.003929577, 0.003837084, 0.003646804, 0.004010142, 0.003892546, 0.003823974, 0.003898795, 0.004062747, 0.004301551, 0.004078911, 0.004013285, 0.004328478, 0.004402881, 0.004531393, 0.004732512, 0.004542397, 0.00483768, 0.004369761, 0.00446889, 0.004588537, 0.004554786, 0.004730079, 0.004673937, 0.004301034, 0.003954225, 0.004028085, 0.003883434, 0.003792393, 0.004135406, 0.004028004, 0.003838379, 0.003689642, 0.004040606, 0.003974352, 0.004142337, 0.004118002, 0.003944275, 0.004501349, 0.004730117, 0.004979836, 0.00459259, 0.004666791, 0.004829314, 0.004609126, 0.004511763, 0.00430575, 0.004105118, 0.00420981, 0.004187259, 0.004184995, 0.003948721, 0.003979322, 0.004015653, 0.004055797, 0.003911243, 0.00376127, 0.00381297, 0.003861015, 0.00409009, 0.004171029, 0.004457091, 0.004380217, 0.004387912, 0.004514433, 0.004380495, 0.004619304, 0.004719461, 0.004566491, 0.005014346, 0.004530063, 0.00447204, 0.004604741, 0.003973992, 0.004173434, 0.003968399, 0.003901682, 0.003958696, 0.003587704, 0.003830964, 0.004160648, 0.003712335, 0.003876017, 0.004087356, 0.004212598, 0.003957131, 0.004016799, 0.004202452, 0.004569631, 0.004208436, 0.004540047, 0.004651086, 0.004683073, 0.004578707, 0.004241522, 0.004386056, 0.004047575, 0.004405374, 0.004168586, 0.003887555, 0.003769091, 0.003673857, 0.003843115, 0.003807227, 0.003648299, 0.003648615, 0.003964161, 0.003931397, 0.003884629, 0.004069158, 0.003901503, 0.003956251, 0.004162931, 0.004513348, 0.004475948, 0.004439141, 0.004362496, 0.004256619, 0.004552007, 0.004096439, 0.004201565, 0.004422109, 0.003909845, 0.003686485, 0.00352134, 0.003730876, 0.003556932, 0.003701936, 0.003575524, 0.003772897, 0.003778122, 0.003810325, 0.00417281, 0.004263909, 0.00436328, 0.004036994, 0.004640232, 0.004452742, 0.004474475, 0.004498833, 0.004600899, 0.004757743, 0.004649487, 0.004502478, 0.004618398, 0.003936839, 0.004308296, 0.004222947, 0.003693016, 0.003728972, 0.003746406, 0.003562752, 0.003594244, 0.003479867, 0.00359404, 0.003589836, 0.003565327, 0.003825194, 0.003805904, 0.003891383, 0.003784426, 0.004138525, 0.004202178, 0.004518747, 0.004314405, 0.004405213, 0.0042944, 0.004288121, 0.004480025, 0.004524121, 0.004379617, 0.00394369, 0.003802573, 0.003717103, 0.0040918, 0.003381368, 0.003470572, 0.003595196, 0.003840127, 0.00381128, 0.003665964, 0.003748317, 0.003827301, 0.003791421, 0.003659749, 0.004031797, 0.003966933, 0.004021431, 0.004227321, 0.004259957, 0.004484037, 0.004627314, 0.004567631, 0.004563959, 0.004440716, 0.003913222, 0.003799398, 0.004192732, 0.003583449, 0.003575966, 0.004006004, 0.003780666, 0.003543433, 0.003633395, 0.00405607, 0.003896938, 0.003753753, 0.003612462, 0.003962041, 0.003884229, 0.003974907, 0.00446137, 0.004496, 0.004687636, 0.004392955, 0.004617567, 0.004247412, 0.004442427, 0.004298673, 0.004032352, 0.003922597, 0.004281308, 0.00397154, 0.003730452, 0.003834379, 0.003593594, 0.003965488, 0.003576552, 0.004011622, 0.003995712, 0.004086291, 0.003947231, 0.003924868, 0.004318016, 0.004143846, 0.004335325, 0.004450509, 0.004648337, 0.005002843, 0.004855688, 0.004656919, 0.004815412, 0.004597241, 0.004270394, 0.004217779, 0.004100314, 0.004227442, 0.003835257, 0.003691444, 0.003727504, 0.003850607, 0.003263669, 0.003671487, 0.003697896, 0.003703743, 0.003982738, 0.004076839, 0.004246738, 0.004021167, 0.004001203, 0.00447109, 0.004543777, 0.004647185, 0.004634709, 0.004528026, 0.004690102, 0.004672743, 0.0045813, 0.004511352, 0.004307266, 0.004202064, 0.003933552, 0.003864666, 0.00379939, 0.003713377, 0.003965528, 0.003848198, 0.0040977, 0.003939316, 0.004072458, 0.003949772, 0.004242749, 0.004250676, 0.004294053, 0.004112664, 0.004531625, 0.004765821, 0.00490463, 0.00438927, 0.00460071, 0.004023953, 0.004167773, 0.004121317, 0.004057887, 0.004090334, 0.003735944, 0.003720523, 0.003632085, 0.003564655, 0.003244951, 0.00358253, 0.003305773, 0.003977206, 0.003918137, 0.003810902, 0.004103809, 0.004128361, 0.004158377, 0.004451082, 0.004313097, 0.004700793, 0.004414295, 0.004575677, 0.004631461, 0.004279425, 0.004441125, 0.004555665, 0.004343322, 0.004133931, 0.004334398, 0.003973861, 0.003828066, 0.003962046, 0.00359138, 0.003640021, 0.003515898, 0.003703549, 0.004060442, 0.003563495, 0.003820488, 0.003956709, 0.00376352, 0.004298582, 0.004284639, 0.004413835, 0.004690782, 0.004677184, 0.004446543, 0.004730424, 0.004579122, 0.004341587, 0.004382199, 0.004303129, 0.004032525, 0.003722854, 0.003848126, 0.003836233, 0.003499728, 0.003578373, 0.00358823, 0.003911789, 0.003785553, 0.003787052, 0.003893555, 0.003989708, 0.004217831, 0.004157708, 0.004638085, 0.004515029, 0.004840386, 0.004398912, 0.004531459, 0.004585435, 0.004992782, 0.004532883, 0.004536001, 0.004546942, 0.004639135, 0.00442139, 0.004186772, 0.004064014, 0.003903525, 0.003687659, 0.004058827, 0.003816962, 0.003907063, 0.003549077, 0.003952845, 0.004257115, 0.003934559, 0.004136627, 0.00389018, 0.004257592, 0.004386697, 0.004804508, 0.00439084, 0.004506863, 0.004375148, 0.004470276, 0.00461046, 0.004615741, 0.004029613, 0.003929904, 0.004184902, 0.003721142, 0.003943833, 0.00348434, 0.003819225, 0.003762883, 0.003728835, 0.003847673, 0.003757864, 0.003800926, 0.004283427, 0.00390682, 0.00404696, 0.004247219, 0.004492434, 0.004060132, 0.004567408, 0.004952655, 0.004789006, 0.004475326, 0.004763512, 0.004495917, 0.004616881, 0.004357374, 0.004323158, 0.003740058, 0.003943322, 0.003746941, 0.003782161, 0.003822159, 0.003774712, 0.003716322, 0.003882915, 0.00398861, 0.004021338, 0.004295842, 0.004038492, 0.004330217, 0.004749945, 0.004491599, 0.004763651, 0.004901127, 0.005041231, 0.004865391, 0.004862332, 0.004576551, 0.00478791, 0.004263369, 0.004458727, 0.004217291, 0.004011645, 0.00396956, 0.003924959, 0.003830744, 0.003856054, 0.003945242, 0.003695392, 0.003834791, 0.004057464, 0.00421692, 0.004086975, 0.004372145, 0.004573005, 0.004371987, 0.004372661, 0.004798246, 0.004653228, 0.00492831, 0.004490008, 0.004823206, 0.004547189, 0.004364119, 0.004424783, 0.004260228, 0.004173407, 0.004235745, 0.003753934, 0.003821093, 0.003873507, 0.003746436, 0.003585646, 0.003875481, 0.004068486, 0.004011013, 0.003777348, 0.004165403, 0.004367212, 0.004207363, 0.004143284, 0.00467436, 0.004794439, 0.004458508, 0.004952124, 0.004827911, 0.00481228, 0.004912745, 0.004726374, 0.004665608, 0.004029481, 0.00425902, 0.00396478, 0.004057586, 0.00399052, 0.003765279, 0.003534241, 0.004049961, 0.004069148, 0.00408266, 0.004078803, 0.003969246, 0.004203986, 0.004578312, 0.004649226, 0.004377515, 0.004839572, 0.00463655, 0.004846813, 0.00513346, 0.004732423, 0.004735058, 0.00466067, 0.004383504, 0.004110823, 0.004202648, 0.003927612, 0.003657352, 0.004142071, 0.003945275, 0.003945598, 0.004084624, 0.004219726, 0.003957996, 0.004030442, 0.004260595, 0.004253624, 0.004648218, 0.004318726, 0.004715241, 4.68351428e-03]"
   ]
  },
  {
   "cell_type": "code",
   "execution_count": 211,
   "metadata": {},
   "outputs": [],
   "source": [
    "bulk = bulk[11:100]\n",
    "plt.plot(bulk)\n",
    "plt.show()"
   ]
  },
  {
   "cell_type": "code",
   "execution_count": 228,
   "metadata": {},
   "outputs": [
    {
     "data": {
      "text/plain": [
       "30.095225983852984"
      ]
     },
     "execution_count": 228,
     "metadata": {},
     "output_type": "execute_result"
    }
   ],
   "source": [
    "np.min(np.transpose(rparams2)[1])"
   ]
  },
  {
   "cell_type": "code",
   "execution_count": 206,
   "metadata": {},
   "outputs": [],
   "source": [
    "plt.plot(bulk)\n",
    "plt.show()"
   ]
  },
  {
   "cell_type": "code",
   "execution_count": 214,
   "metadata": {},
   "outputs": [],
   "source": [
    "nbulk = normalize_av(np.subtract(bulk, -0.008), 60, 70, 10)\n",
    "plt.plot(nbulk, 'k.')\n",
    "plt.show()"
   ]
  },
  {
   "cell_type": "code",
   "execution_count": 229,
   "metadata": {},
   "outputs": [],
   "source": [
    "plt.plot(nbulk[0:34])\n",
    "plt.show()"
   ]
  },
  {
   "cell_type": "code",
   "execution_count": 275,
   "metadata": {},
   "outputs": [],
   "source": [
    "q = fit_to_polynomial(np.divide(np.add(curve_correction(bulk, 70, 75, 100, 30), 0.015),0.55)[0:34])"
   ]
  },
  {
   "cell_type": "code",
   "execution_count": 276,
   "metadata": {},
   "outputs": [],
   "source": [
    "aoeu = np.divide(np.add(curve_correction(bulk, 70, 75, 100, 30), 0.015),0.55)\n",
    "plt.plot(aoeu)\n",
    "plt.show()"
   ]
  },
  {
   "cell_type": "code",
   "execution_count": null,
   "metadata": {
    "collapsed": true
   },
   "outputs": [],
   "source": []
  },
  {
   "cell_type": "code",
   "execution_count": 277,
   "metadata": {
    "collapsed": true
   },
   "outputs": [],
   "source": [
    "a = []\n",
    "for i in range (0, 100):\n",
    "    a.append(piecewise_avrami(i, q[0], q[1]))"
   ]
  },
  {
   "cell_type": "code",
   "execution_count": 278,
   "metadata": {
    "collapsed": true
   },
   "outputs": [],
   "source": [
    "plt.plot(aoeu, 'k.', a, 'r')\n",
    "plt.show()"
   ]
  },
  {
   "cell_type": "code",
   "execution_count": null,
   "metadata": {},
   "outputs": [],
   "source": []
  },
  {
   "cell_type": "code",
   "execution_count": null,
   "metadata": {
    "collapsed": true
   },
   "outputs": [],
   "source": []
  }
 ],
 "metadata": {
  "anaconda-cloud": {},
  "kernelspec": {
   "display_name": "Python 3 (ipykernel)",
   "language": "python",
   "name": "python3"
  },
  "language_info": {
   "codemirror_mode": {
    "name": "ipython",
    "version": 3
   },
   "file_extension": ".py",
   "mimetype": "text/x-python",
   "name": "python",
   "nbconvert_exporter": "python",
   "pygments_lexer": "ipython3",
   "version": "3.9.7"
  }
 },
 "nbformat": 4,
 "nbformat_minor": 1
}
